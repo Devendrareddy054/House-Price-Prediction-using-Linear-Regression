{
  "nbformat": 4,
  "nbformat_minor": 0,
  "metadata": {
    "colab": {
      "provenance": [],
      "authorship_tag": "ABX9TyMRTk01durg43jxFGdSykSs",
      "include_colab_link": true
    },
    "kernelspec": {
      "name": "python3",
      "display_name": "Python 3"
    },
    "language_info": {
      "name": "python"
    }
  },
  "cells": [
    {
      "cell_type": "markdown",
      "metadata": {
        "id": "view-in-github",
        "colab_type": "text"
      },
      "source": [
        "<a href=\"https://colab.research.google.com/github/Devendrareddy054/House-Price-Prediction-using-Linear-Regression/blob/main/Untitled3.ipynb\" target=\"_parent\"><img src=\"https://colab.research.google.com/assets/colab-badge.svg\" alt=\"Open In Colab\"/></a>"
      ]
    },
    {
      "cell_type": "code",
      "execution_count": 1,
      "metadata": {
        "id": "0Mq3jDb1DFs7",
        "colab": {
          "base_uri": "https://localhost:8080/"
        },
        "outputId": "47b9c878-e951-49fc-97c7-8e8b1ffd1112"
      },
      "outputs": [
        {
          "output_type": "stream",
          "name": "stdout",
          "text": [
            "Hiiii\n"
          ]
        }
      ],
      "source": [
        "print(\"Hiiii\")"
      ]
    }
  ]
}